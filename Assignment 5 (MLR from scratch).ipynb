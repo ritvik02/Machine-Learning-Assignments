{
 "cells": [
  {
   "cell_type": "code",
   "execution_count": 1,
   "metadata": {
    "colab": {},
    "colab_type": "code",
    "id": "CqbnB9DrUU4t"
   },
   "outputs": [],
   "source": [
    "import numpy as np\n",
    "import matplotlib.pyplot as plt\n",
    "\n",
    "import pandas as pd\n",
    "from mpl_toolkits.mplot3d import Axes3D"
   ]
  },
  {
   "cell_type": "code",
   "execution_count": null,
   "metadata": {
    "colab": {},
    "colab_type": "code",
    "id": "CWfYee4Nexii"
   },
   "outputs": [],
   "source": []
  },
  {
   "cell_type": "code",
   "execution_count": 2,
   "metadata": {
    "colab": {},
    "colab_type": "code",
    "id": "6qvpjVxEhKOb"
   },
   "outputs": [],
   "source": [
    "%matplotlib notebook\n"
   ]
  },
  {
   "cell_type": "code",
   "execution_count": 3,
   "metadata": {
    "colab": {
     "base_uri": "https://localhost:8080/",
     "height": 355
    },
    "colab_type": "code",
    "id": "bDJjtKAVUjoK",
    "outputId": "cf2c6af1-bcec-4095-ef48-9b40942f8f55"
   },
   "outputs": [
    {
     "data": {
      "text/html": [
       "<div>\n",
       "<style scoped>\n",
       "    .dataframe tbody tr th:only-of-type {\n",
       "        vertical-align: middle;\n",
       "    }\n",
       "\n",
       "    .dataframe tbody tr th {\n",
       "        vertical-align: top;\n",
       "    }\n",
       "\n",
       "    .dataframe thead th {\n",
       "        text-align: right;\n",
       "    }\n",
       "</style>\n",
       "<table border=\"1\" class=\"dataframe\">\n",
       "  <thead>\n",
       "    <tr style=\"text-align: right;\">\n",
       "      <th></th>\n",
       "      <th>Serial No.</th>\n",
       "      <th>GRE Score</th>\n",
       "      <th>TOEFL Score</th>\n",
       "      <th>University Rating</th>\n",
       "      <th>SOP</th>\n",
       "      <th>LOR</th>\n",
       "      <th>CGPA</th>\n",
       "      <th>Research</th>\n",
       "      <th>Chance of Admit</th>\n",
       "    </tr>\n",
       "  </thead>\n",
       "  <tbody>\n",
       "    <tr>\n",
       "      <th>0</th>\n",
       "      <td>1</td>\n",
       "      <td>337</td>\n",
       "      <td>118</td>\n",
       "      <td>4</td>\n",
       "      <td>4.5</td>\n",
       "      <td>4.5</td>\n",
       "      <td>9.65</td>\n",
       "      <td>1</td>\n",
       "      <td>0.92</td>\n",
       "    </tr>\n",
       "    <tr>\n",
       "      <th>1</th>\n",
       "      <td>2</td>\n",
       "      <td>324</td>\n",
       "      <td>107</td>\n",
       "      <td>4</td>\n",
       "      <td>4.0</td>\n",
       "      <td>4.5</td>\n",
       "      <td>8.87</td>\n",
       "      <td>1</td>\n",
       "      <td>0.76</td>\n",
       "    </tr>\n",
       "    <tr>\n",
       "      <th>2</th>\n",
       "      <td>3</td>\n",
       "      <td>316</td>\n",
       "      <td>104</td>\n",
       "      <td>3</td>\n",
       "      <td>3.0</td>\n",
       "      <td>3.5</td>\n",
       "      <td>8.00</td>\n",
       "      <td>1</td>\n",
       "      <td>0.72</td>\n",
       "    </tr>\n",
       "    <tr>\n",
       "      <th>3</th>\n",
       "      <td>4</td>\n",
       "      <td>322</td>\n",
       "      <td>110</td>\n",
       "      <td>3</td>\n",
       "      <td>3.5</td>\n",
       "      <td>2.5</td>\n",
       "      <td>8.67</td>\n",
       "      <td>1</td>\n",
       "      <td>0.80</td>\n",
       "    </tr>\n",
       "    <tr>\n",
       "      <th>4</th>\n",
       "      <td>5</td>\n",
       "      <td>314</td>\n",
       "      <td>103</td>\n",
       "      <td>2</td>\n",
       "      <td>2.0</td>\n",
       "      <td>3.0</td>\n",
       "      <td>8.21</td>\n",
       "      <td>0</td>\n",
       "      <td>0.65</td>\n",
       "    </tr>\n",
       "    <tr>\n",
       "      <th>5</th>\n",
       "      <td>6</td>\n",
       "      <td>330</td>\n",
       "      <td>115</td>\n",
       "      <td>5</td>\n",
       "      <td>4.5</td>\n",
       "      <td>3.0</td>\n",
       "      <td>9.34</td>\n",
       "      <td>1</td>\n",
       "      <td>0.90</td>\n",
       "    </tr>\n",
       "    <tr>\n",
       "      <th>6</th>\n",
       "      <td>7</td>\n",
       "      <td>321</td>\n",
       "      <td>109</td>\n",
       "      <td>3</td>\n",
       "      <td>3.0</td>\n",
       "      <td>4.0</td>\n",
       "      <td>8.20</td>\n",
       "      <td>1</td>\n",
       "      <td>0.75</td>\n",
       "    </tr>\n",
       "    <tr>\n",
       "      <th>7</th>\n",
       "      <td>8</td>\n",
       "      <td>308</td>\n",
       "      <td>101</td>\n",
       "      <td>2</td>\n",
       "      <td>3.0</td>\n",
       "      <td>4.0</td>\n",
       "      <td>7.90</td>\n",
       "      <td>0</td>\n",
       "      <td>0.68</td>\n",
       "    </tr>\n",
       "    <tr>\n",
       "      <th>8</th>\n",
       "      <td>9</td>\n",
       "      <td>302</td>\n",
       "      <td>102</td>\n",
       "      <td>1</td>\n",
       "      <td>2.0</td>\n",
       "      <td>1.5</td>\n",
       "      <td>8.00</td>\n",
       "      <td>0</td>\n",
       "      <td>0.50</td>\n",
       "    </tr>\n",
       "    <tr>\n",
       "      <th>9</th>\n",
       "      <td>10</td>\n",
       "      <td>323</td>\n",
       "      <td>108</td>\n",
       "      <td>3</td>\n",
       "      <td>3.5</td>\n",
       "      <td>3.0</td>\n",
       "      <td>8.60</td>\n",
       "      <td>0</td>\n",
       "      <td>0.45</td>\n",
       "    </tr>\n",
       "  </tbody>\n",
       "</table>\n",
       "</div>"
      ],
      "text/plain": [
       "   Serial No.  GRE Score  TOEFL Score  University Rating  SOP  LOR   CGPA  \\\n",
       "0           1        337          118                  4  4.5   4.5  9.65   \n",
       "1           2        324          107                  4  4.0   4.5  8.87   \n",
       "2           3        316          104                  3  3.0   3.5  8.00   \n",
       "3           4        322          110                  3  3.5   2.5  8.67   \n",
       "4           5        314          103                  2  2.0   3.0  8.21   \n",
       "5           6        330          115                  5  4.5   3.0  9.34   \n",
       "6           7        321          109                  3  3.0   4.0  8.20   \n",
       "7           8        308          101                  2  3.0   4.0  7.90   \n",
       "8           9        302          102                  1  2.0   1.5  8.00   \n",
       "9          10        323          108                  3  3.5   3.0  8.60   \n",
       "\n",
       "   Research  Chance of Admit   \n",
       "0         1              0.92  \n",
       "1         1              0.76  \n",
       "2         1              0.72  \n",
       "3         1              0.80  \n",
       "4         0              0.65  \n",
       "5         1              0.90  \n",
       "6         1              0.75  \n",
       "7         0              0.68  \n",
       "8         0              0.50  \n",
       "9         0              0.45  "
      ]
     },
     "execution_count": 3,
     "metadata": {},
     "output_type": "execute_result"
    }
   ],
   "source": [
    "dataset = pd.read_csv(\"Admission_Predict.csv\")\n",
    "dataset.head(10)\n"
   ]
  },
  {
   "cell_type": "code",
   "execution_count": 4,
   "metadata": {
    "colab": {},
    "colab_type": "code",
    "id": "gn3wYK9vTT0S"
   },
   "outputs": [],
   "source": [
    "# X=dataset[['Gre Score','CGPA']]\n",
    "def make_X_mat(dataset):       \n",
    "    X = []\n",
    "    for i in range(len(dataset)):                            \n",
    "        X.append([1])\n",
    "        X[i]+=(dataset[i])                         \n",
    "    return np.matrix(X)                             "
   ]
  },
  {
   "cell_type": "code",
   "execution_count": 26,
   "metadata": {
    "colab": {
     "base_uri": "https://localhost:8080/",
     "height": 52
    },
    "colab_type": "code",
    "id": "jE05VtghjEyD",
    "outputId": "474b2123-bfbe-4896-caa3-e1f48b6f7e58"
   },
   "outputs": [
    {
     "data": {
      "text/plain": [
       "array([[0.90594087, 0.38739895, 0.98037396, 0.12411847, 0.09247517],\n",
       "       [0.12359679, 0.11014866, 0.66448765, 0.09065531, 0.59963189]])"
      ]
     },
     "execution_count": 26,
     "metadata": {
      "tags": []
     },
     "output_type": "execute_result"
    }
   ],
   "source": [
    "k=np.random.rand(5,2)\n",
    "k.T\n"
   ]
  },
  {
   "cell_type": "code",
   "execution_count": 27,
   "metadata": {
    "colab": {},
    "colab_type": "code",
    "id": "IS_GsBMjTT0W"
   },
   "outputs": [],
   "source": [
    "def get_Theta(X,Y):\n",
    "    XT = X.T\n",
    "    XTX_inv = np.dot(XT,X).I\n",
    "    return np.dot(XTX_inv , np.dot(XT,Y))     #THETA=(INVERSE(XT*X))*(XT*Y)"
   ]
  },
  {
   "cell_type": "code",
   "execution_count": 28,
   "metadata": {
    "colab": {},
    "colab_type": "code",
    "id": "Sa8UDpbeTT0Z"
   },
   "outputs": [],
   "source": [
    "def predict(X,theta):\n",
    "    return(np.dot(X,theta))"
   ]
  },
  {
   "cell_type": "code",
   "execution_count": 30,
   "metadata": {
    "colab": {
     "base_uri": "https://localhost:8080/",
     "height": 55
    },
    "colab_type": "code",
    "id": "D07EpLBp4QV-",
    "outputId": "4f15a5e4-4055-4fa6-dc58-1be662033bac"
   },
   "outputs": [
    {
     "name": "stdout",
     "output_type": "stream",
     "text": [
      "[[337.0, 9.65], [324.0, 8.87], [316.0, 8.0], [322.0, 8.67], [314.0, 8.21], [330.0, 9.34], [321.0, 8.2], [308.0, 7.9], [302.0, 8.0], [323.0, 8.6], [325.0, 8.4], [327.0, 9.0], [328.0, 9.1], [307.0, 8.0], [311.0, 8.2], [314.0, 8.3], [317.0, 8.7], [319.0, 8.0], [318.0, 8.8], [303.0, 8.5], [312.0, 7.9], [325.0, 8.4], [328.0, 9.5], [334.0, 9.7], [336.0, 9.8], [340.0, 9.6], [322.0, 8.8], [298.0, 7.5], [295.0, 7.2], [310.0, 7.3], [300.0, 8.1], [327.0, 8.3], [338.0, 9.4], [340.0, 9.6], [331.0, 9.8], [320.0, 9.2], [299.0, 8.4], [300.0, 7.8], [304.0, 7.5], [307.0, 7.7], [308.0, 8.0], [316.0, 8.2], [313.0, 8.5], [332.0, 9.1], [326.0, 9.4], [322.0, 9.1], [329.0, 9.3], [339.0, 9.7], [321.0, 8.85], [327.0, 8.4], [313.0, 8.3], [312.0, 7.9], [334.0, 8.0], [324.0, 8.1], [322.0, 8.0], [320.0, 7.7], [316.0, 7.4], [298.0, 7.6], [300.0, 6.8], [311.0, 8.3], [309.0, 8.1], [307.0, 8.2], [304.0, 8.2], [315.0, 8.5], [325.0, 8.7], [325.0, 8.92], [327.0, 9.02], [316.0, 8.64], [318.0, 9.22], [328.0, 9.16], [332.0, 9.64], [336.0, 9.76], [321.0, 9.45], [314.0, 9.04], [314.0, 8.9], [329.0, 8.56], [327.0, 8.72], [301.0, 8.22], [296.0, 7.54], [294.0, 7.36], [312.0, 8.02], [340.0, 9.5], [320.0, 9.22], [322.0, 9.36], [340.0, 9.45], [319.0, 8.66], [315.0, 8.42], [317.0, 8.28], [314.0, 8.14], [316.0, 8.76], [318.0, 7.92], [299.0, 7.66], [298.0, 8.03], [301.0, 7.88], [303.0, 7.66], [304.0, 7.84], [306.0, 8.0], [331.0, 8.96], [332.0, 9.24], [323.0, 8.88], [322.0, 8.46], [312.0, 8.12], [314.0, 8.25], [317.0, 8.47], [326.0, 9.05], [316.0, 8.78], [329.0, 9.18], [338.0, 9.46], [331.0, 9.38], [304.0, 8.64], [305.0, 8.48], [321.0, 8.68], [301.0, 8.34], [320.0, 8.56], [311.0, 8.45], [310.0, 9.04], [299.0, 8.62], [290.0, 7.46], [296.0, 7.28], [327.0, 8.84], [335.0, 9.56], [334.0, 9.48], [310.0, 8.36], [308.0, 8.22], [301.0, 8.47], [300.0, 8.66], [323.0, 9.32], [319.0, 8.71], [326.0, 9.1], [333.0, 9.35], [339.0, 9.76], [303.0, 8.65], [309.0, 8.56], [323.0, 8.78], [333.0, 9.28], [314.0, 8.77], [312.0, 8.45], [316.0, 8.16], [326.0, 9.08], [318.0, 9.12], [329.0, 9.15], [332.0, 9.36], [331.0, 9.44], [340.0, 9.92], [325.0, 8.96], [320.0, 8.64], [315.0, 8.48], [326.0, 9.11], [339.0, 9.8], [311.0, 8.26], [334.0, 9.43], [332.0, 9.28], [321.0, 9.06], [324.0, 8.75], [326.0, 8.89], [312.0, 8.69], [315.0, 8.34], [309.0, 8.26], [306.0, 8.14], [297.0, 7.9], [315.0, 7.86], [298.0, 7.46], [318.0, 8.5], [317.0, 8.56], [329.0, 9.01], [322.0, 8.97], [302.0, 8.33], [313.0, 8.27], [293.0, 7.8], [311.0, 7.98], [312.0, 8.04], [334.0, 9.07], [322.0, 9.13], [323.0, 9.23], [321.0, 8.97], [320.0, 8.87], [329.0, 9.16], [319.0, 9.04], [309.0, 8.12], [307.0, 8.27], [300.0, 8.16], [305.0, 8.42], [299.0, 7.88], [314.0, 8.8], [316.0, 8.32], [327.0, 9.11], [317.0, 8.68], [335.0, 9.44], [331.0, 9.36], [324.0, 9.08], [324.0, 9.16], [323.0, 8.98], [322.0, 8.94], [336.0, 9.53], [316.0, 8.76], [307.0, 8.52], [306.0, 8.26], [310.0, 8.33], [311.0, 8.43], [313.0, 8.69], [317.0, 8.54], [315.0, 8.46], [340.0, 9.91], [334.0, 9.87], [298.0, 8.54], [295.0, 7.65], [315.0, 7.89], [310.0, 8.02], [305.0, 8.16], [301.0, 8.12], [325.0, 9.06], [328.0, 9.14], [338.0, 9.66], [333.0, 9.78], [331.0, 9.42], [330.0, 9.36], [322.0, 9.26], [321.0, 9.13], [324.0, 8.97], [312.0, 8.42], [313.0, 8.75], [316.0, 8.56], [324.0, 8.79], [308.0, 8.45], [305.0, 8.23], [296.0, 8.03], [306.0, 8.45], [312.0, 8.53], [318.0, 8.67], [324.0, 9.01], [313.0, 8.65], [319.0, 8.33], [312.0, 8.27], [304.0, 8.07], [330.0, 9.31], [326.0, 9.23], [325.0, 9.17], [329.0, 9.19], [310.0, 8.37], [299.0, 7.89], [296.0, 7.68], [317.0, 8.15], [324.0, 8.76], [325.0, 9.04], [314.0, 8.56], [328.0, 9.02], [316.0, 8.73], [311.0, 8.48], [324.0, 8.87], [321.0, 8.83], [320.0, 8.57], [316.0, 9.0], [318.0, 8.54], [335.0, 9.68], [321.0, 9.12], [307.0, 8.37], [309.0, 8.56], [324.0, 8.64], [326.0, 8.76], [331.0, 9.34], [327.0, 9.13], [312.0, 8.09], [308.0, 8.36], [324.0, 8.79], [325.0, 8.76], [313.0, 8.68], [312.0, 8.45], [314.0, 8.17], [327.0, 9.14], [308.0, 8.34], [306.0, 8.22], [299.0, 7.86], [294.0, 7.64], [312.0, 8.01], [315.0, 7.95], [322.0, 8.96], [329.0, 9.45], [320.0, 8.62], [308.0, 8.49], [304.0, 8.73], [311.0, 8.64], [317.0, 9.11], [312.0, 8.79], [321.0, 8.9], [340.0, 9.66], [331.0, 9.26], [336.0, 9.19], [324.0, 9.08], [314.0, 9.02], [313.0, 9.0], [307.0, 7.65], [300.0, 7.87], [302.0, 7.97], [312.0, 8.18], [316.0, 8.32], [317.0, 8.57], [310.0, 8.67], [320.0, 9.11], [330.0, 9.24], [305.0, 8.65], [309.0, 8.0], [319.0, 8.76], [322.0, 8.45], [323.0, 8.55], [313.0, 8.43], [321.0, 8.8], [323.0, 9.1], [325.0, 9.0], [312.0, 8.53], [308.0, 8.6], [320.0, 8.74], [328.0, 9.18], [311.0, 9.0], [301.0, 8.04], [305.0, 8.13], [308.0, 8.07], [298.0, 7.86], [300.0, 8.01], [324.0, 8.8], [327.0, 8.69], [317.0, 8.5], [323.0, 8.44], [314.0, 8.27], [305.0, 8.18], [315.0, 8.33], [326.0, 9.14], [299.0, 8.02], [295.0, 7.86], [324.0, 8.77], [297.0, 7.89], [327.0, 8.66], [311.0, 8.12], [308.0, 8.21], [319.0, 8.54], [312.0, 8.65], [325.0, 9.11], [319.0, 8.79], [332.0, 9.47], [323.0, 8.74], [324.0, 8.66], [312.0, 8.46], [326.0, 8.76], [308.0, 8.24], [305.0, 8.13], [295.0, 7.34], [316.0, 7.43], [304.0, 7.64], [299.0, 7.34], [302.0, 7.25], [313.0, 8.04], [318.0, 8.27], [325.0, 8.67], [303.0, 8.06], [300.0, 8.17], [297.0, 7.67], [317.0, 8.12], [327.0, 8.77], [301.0, 7.89], [314.0, 7.64], [321.0, 8.44], [322.0, 8.64], [334.0, 9.54], [338.0, 9.23], [306.0, 8.36], [313.0, 8.9], [330.0, 9.17], [320.0, 8.34], [311.0, 7.46], [298.0, 7.88], [301.0, 8.03], [310.0, 8.24], [324.0, 9.22], [336.0, 9.62], [321.0, 8.54], [315.0, 7.65], [304.0, 7.66], [297.0, 7.43], [290.0, 7.56], [303.0, 7.65], [311.0, 8.43], [322.0, 8.84], [319.0, 8.67], [324.0, 9.15], [300.0, 8.26], [340.0, 9.74], [335.0, 9.82], [302.0, 7.96], [307.0, 8.1], [296.0, 7.8], [320.0, 8.44], [314.0, 8.24], [318.0, 8.65], [326.0, 9.12], [317.0, 8.76], [329.0, 9.23], [324.0, 9.04], [325.0, 9.11], [330.0, 9.45], [312.0, 8.78], [333.0, 9.66]]\n"
     ]
    }
   ],
   "source": [
    "full_data=dataset[['GRE Score','CGPA']].values.tolist()\n",
    "print(full_data)     #FULL DATA WITH GRE Score and CGPA column"
   ]
  },
  {
   "cell_type": "code",
   "execution_count": 31,
   "metadata": {
    "colab": {},
    "colab_type": "code",
    "id": "jFgx_5m2TT0c"
   },
   "outputs": [],
   "source": [
    "X=make_X_mat(full_data)"
   ]
  },
  {
   "cell_type": "code",
   "execution_count": null,
   "metadata": {
    "colab": {
     "base_uri": "https://localhost:8080/",
     "height": 136
    },
    "colab_type": "code",
    "id": "Jl6ii7shXTk3",
    "outputId": "f5afe532-5afe-4deb-b281-32f4d2a3f422"
   },
   "outputs": [
    {
     "data": {
      "text/plain": [
       "matrix([[  1.  , 337.  ,   9.65],\n",
       "        [  1.  , 324.  ,   8.87],\n",
       "        [  1.  , 316.  ,   8.  ],\n",
       "        ...,\n",
       "        [  1.  , 330.  ,   9.45],\n",
       "        [  1.  , 312.  ,   8.78],\n",
       "        [  1.  , 333.  ,   9.66]])"
      ]
     },
     "execution_count": 11,
     "metadata": {
      "tags": []
     },
     "output_type": "execute_result"
    }
   ],
   "source": [
    "X"
   ]
  },
  {
   "cell_type": "code",
   "execution_count": null,
   "metadata": {
    "colab": {},
    "colab_type": "code",
    "id": "HPg8rlXGTT0j"
   },
   "outputs": [],
   "source": [
    "Y = np.matrix(dataset)[:,-1]\n",
    "Y"
   ]
  },
  {
   "cell_type": "code",
   "execution_count": 34,
   "metadata": {
    "colab": {
     "base_uri": "https://localhost:8080/",
     "height": 87
    },
    "colab_type": "code",
    "id": "SMBs9Vp1oPhI",
    "outputId": "8e9d55cb-0a65-4efd-b3ef-9623f0bc0763"
   },
   "outputs": [
    {
     "name": "stdout",
     "output_type": "stream",
     "text": [
      "(320, 3)\n",
      "(80, 3)\n",
      "(320, 1)\n",
      "(80, 1)\n"
     ]
    }
   ],
   "source": [
    "X_train=X[0:320,:]\n",
    "X_test=X[320:,:]\n",
    "Y_train=Y[0:320,:]\n",
    "Y_test=Y[320:,:]\n",
    "print(X_train.shape)\n",
    "print(X_test.shape)\n",
    "print(Y_train.shape)\n",
    "print(Y_test.shape)"
   ]
  },
  {
   "cell_type": "code",
   "execution_count": 35,
   "metadata": {
    "colab": {
     "base_uri": "https://localhost:8080/",
     "height": 69
    },
    "colab_type": "code",
    "id": "MX2sHigATT0p",
    "outputId": "d55cd10d-dd43-4b27-8bf6-f4eda35ed977"
   },
   "outputs": [
    {
     "name": "stdout",
     "output_type": "stream",
     "text": [
      "[[-1.59012271]\n",
      " [ 0.00286872]\n",
      " [ 0.16313997]]\n"
     ]
    }
   ],
   "source": [
    "theta =get_Theta(X_train,Y_train)\n",
    "print(theta)     "
   ]
  },
  {
   "cell_type": "code",
   "execution_count": 36,
   "metadata": {
    "colab": {},
    "colab_type": "code",
    "id": "7izJ5q3gTT0t"
   },
   "outputs": [],
   "source": [
    "yhat_test = predict(X_test,theta)\n",
    "yh_test=yhat_test.flatten()"
   ]
  },
  {
   "cell_type": "code",
   "execution_count": 37,
   "metadata": {
    "colab": {},
    "colab_type": "code",
    "id": "vPcORhNmSptL"
   },
   "outputs": [],
   "source": [
    "Y_testactual=np.array(Y_test)\n",
    "Ytest_pred=np.array(yhat_test)"
   ]
  },
  {
   "cell_type": "code",
   "execution_count": 38,
   "metadata": {
    "colab": {
     "base_uri": "https://localhost:8080/",
     "height": 415
    },
    "colab_type": "code",
    "id": "97drWtfgUxBR",
    "outputId": "a1d7705e-0208-4967-dd21-faa04d7b641f"
   },
   "outputs": [
    {
     "data": {
      "text/html": [
       "<div>\n",
       "<style scoped>\n",
       "    .dataframe tbody tr th:only-of-type {\n",
       "        vertical-align: middle;\n",
       "    }\n",
       "\n",
       "    .dataframe tbody tr th {\n",
       "        vertical-align: top;\n",
       "    }\n",
       "\n",
       "    .dataframe thead th {\n",
       "        text-align: right;\n",
       "    }\n",
       "</style>\n",
       "<table border=\"1\" class=\"dataframe\">\n",
       "  <thead>\n",
       "    <tr style=\"text-align: right;\">\n",
       "      <th></th>\n",
       "      <th>Actual</th>\n",
       "      <th>Predicted</th>\n",
       "    </tr>\n",
       "  </thead>\n",
       "  <tbody>\n",
       "    <tr>\n",
       "      <th>0</th>\n",
       "      <td>0.75</td>\n",
       "      <td>0.705952</td>\n",
       "    </tr>\n",
       "    <tr>\n",
       "      <th>1</th>\n",
       "      <td>0.73</td>\n",
       "      <td>0.713376</td>\n",
       "    </tr>\n",
       "    <tr>\n",
       "      <th>2</th>\n",
       "      <td>0.72</td>\n",
       "      <td>0.659823</td>\n",
       "    </tr>\n",
       "    <tr>\n",
       "      <th>3</th>\n",
       "      <td>0.62</td>\n",
       "      <td>0.619322</td>\n",
       "    </tr>\n",
       "    <tr>\n",
       "      <th>4</th>\n",
       "      <td>0.67</td>\n",
       "      <td>0.672481</td>\n",
       "    </tr>\n",
       "    <tr>\n",
       "      <th>...</th>\n",
       "      <td>...</td>\n",
       "      <td>...</td>\n",
       "    </tr>\n",
       "    <tr>\n",
       "      <th>75</th>\n",
       "      <td>0.82</td>\n",
       "      <td>0.814128</td>\n",
       "    </tr>\n",
       "    <tr>\n",
       "      <th>76</th>\n",
       "      <td>0.84</td>\n",
       "      <td>0.828417</td>\n",
       "    </tr>\n",
       "    <tr>\n",
       "      <th>77</th>\n",
       "      <td>0.91</td>\n",
       "      <td>0.898228</td>\n",
       "    </tr>\n",
       "    <tr>\n",
       "      <th>78</th>\n",
       "      <td>0.67</td>\n",
       "      <td>0.737287</td>\n",
       "    </tr>\n",
       "    <tr>\n",
       "      <th>79</th>\n",
       "      <td>0.95</td>\n",
       "      <td>0.941094</td>\n",
       "    </tr>\n",
       "  </tbody>\n",
       "</table>\n",
       "<p>80 rows × 2 columns</p>\n",
       "</div>"
      ],
      "text/plain": [
       "    Actual  Predicted\n",
       "0     0.75   0.705952\n",
       "1     0.73   0.713376\n",
       "2     0.72   0.659823\n",
       "3     0.62   0.619322\n",
       "4     0.67   0.672481\n",
       "..     ...        ...\n",
       "75    0.82   0.814128\n",
       "76    0.84   0.828417\n",
       "77    0.91   0.898228\n",
       "78    0.67   0.737287\n",
       "79    0.95   0.941094\n",
       "\n",
       "[80 rows x 2 columns]"
      ]
     },
     "execution_count": 38,
     "metadata": {
      "tags": []
     },
     "output_type": "execute_result"
    }
   ],
   "source": [
    "df = pd.DataFrame({'Actual': Y_testactual.flatten(), 'Predicted': Ytest_pred.flatten()})\n",
    "df"
   ]
  },
  {
   "cell_type": "code",
   "execution_count": 39,
   "metadata": {
    "colab": {},
    "colab_type": "code",
    "id": "HEGWpAAPjj2i"
   },
   "outputs": [],
   "source": [
    "%matplotlib inline"
   ]
  },
  {
   "cell_type": "code",
   "execution_count": 42,
   "metadata": {
    "colab": {
     "base_uri": "https://localhost:8080/",
     "height": 300
    },
    "colab_type": "code",
    "id": "8lbFWyXlTT0w",
    "outputId": "6fb6da8d-70f0-498b-b60a-ebcd16b7745d"
   },
   "outputs": [
    {
     "name": "stdout",
     "output_type": "stream",
     "text": [
      "(2, 50)\n",
      "(2, 50)\n"
     ]
    },
    {
     "data": {
      "text/plain": [
       "<mpl_toolkits.mplot3d.art3d.Poly3DCollection at 0x7fe9fe81eb70>"
      ]
     },
     "execution_count": 42,
     "metadata": {
      "tags": []
     },
     "output_type": "execute_result"
    },
    {
     "data": {
      "image/png": "[encoded data removed]",
      "text/plain": [
       "<Figure size 432x288 with 1 Axes>"
      ]
     },
     "metadata": {
      "needs_background": "light",
      "tags": []
     },
     "output_type": "display_data"
    }
   ],
   "source": [
    "\n",
    "plt3d = plt.figure().gca(projection = '3d')\n",
    "X1 = np.array(X_test[:,1])\n",
    "X2 = np.array(X_test[:,2])\n",
    "plt3d.scatter(np.array(X_test[:,1]),np.array(X_test[:,2]),np.array(Y_test[:,0]),color = 'g',s=10)\n",
    "\n",
    "i=int(min(X1)[0])\n",
    "j=int(max(X1)[0])\n",
    "k=int(min(X2)[0])\n",
    "l=int(max(X2)[0])\n",
    "xx1 , xx2 = np.meshgrid(range(i,j),range(k,l))\n",
    "print(xx1.shape)\n",
    "print(xx2.shape)\n",
    "\n",
    "plt3d.plot_surface(xx1,xx2,np.array(theta[0,0]+theta[1,0]*xx1+theta[2,0]*xx2),color = 'r')\n"
   ]
  },
  {
   "cell_type": "code",
   "execution_count": 54,
   "metadata": {
    "colab": {
     "base_uri": "https://localhost:8080/",
     "height": 1000
    },
    "colab_type": "code",
    "id": "7QR44s-qTT03",
    "outputId": "6262b1a2-b8ee-4cf9-a521-5a2df22b2add"
   },
   "outputs": [
    {
     "data": {
      "text/plain": [
       "matrix([[ 0.04404825],\n",
       "        [ 0.01662432],\n",
       "        [ 0.0601766 ],\n",
       "        [ 0.00067769],\n",
       "        [-0.00248052],\n",
       "        [-0.02617983],\n",
       "        [ 0.05399242],\n",
       "        [ 0.1515697 ],\n",
       "        [ 0.0299194 ],\n",
       "        [-0.11906194],\n",
       "        [ 0.03925864],\n",
       "        [ 0.10325376],\n",
       "        [ 0.11717733],\n",
       "        [-0.0082148 ],\n",
       "        [ 0.01392086],\n",
       "        [ 0.00158309],\n",
       "        [-0.03899979],\n",
       "        [ 0.03277165],\n",
       "        [ 0.04768232],\n",
       "        [ 0.0578648 ],\n",
       "        [ 0.06491745],\n",
       "        [ 0.01581336],\n",
       "        [-0.05771687],\n",
       "        [-0.02116531],\n",
       "        [ 0.01640248],\n",
       "        [-0.03852327],\n",
       "        [-0.058358  ],\n",
       "        [-0.0450724 ],\n",
       "        [ 0.11100403],\n",
       "        [ 0.00056752],\n",
       "        [ 0.06870172],\n",
       "        [-0.02663532],\n",
       "        [ 0.04599193],\n",
       "        [ 0.0266527 ],\n",
       "        [ 0.07682885],\n",
       "        [ 0.08604143],\n",
       "        [ 0.01131324],\n",
       "        [ 0.11946317],\n",
       "        [ 0.14295478],\n",
       "        [ 0.10236176],\n",
       "        [ 0.10686504],\n",
       "        [ 0.00561441],\n",
       "        [ 0.02471292],\n",
       "        [ 0.03844378],\n",
       "        [ 0.01026715],\n",
       "        [ 0.00745109],\n",
       "        [ 0.05154448],\n",
       "        [ 0.05092614],\n",
       "        [-0.04029926],\n",
       "        [ 0.08662358],\n",
       "        [ 0.07654569],\n",
       "        [ 0.04650642],\n",
       "        [ 0.00682577],\n",
       "        [ 0.06604776],\n",
       "        [-0.17154534],\n",
       "        [-0.1516208 ],\n",
       "        [-0.13401756],\n",
       "        [-0.0051447 ],\n",
       "        [ 0.03287932],\n",
       "        [ 0.03268037],\n",
       "        [ 0.00423705],\n",
       "        [-0.00942299],\n",
       "        [-0.01207378],\n",
       "        [ 0.00197011],\n",
       "        [-0.01422591],\n",
       "        [-0.0129335 ],\n",
       "        [-0.11482535],\n",
       "        [-0.08200855],\n",
       "        [-0.04151062],\n",
       "        [ 0.05523048],\n",
       "        [-0.0149292 ],\n",
       "        [-0.02329147],\n",
       "        [ 0.00708297],\n",
       "        [ 0.02163185],\n",
       "        [ 0.03053141],\n",
       "        [ 0.00587161],\n",
       "        [ 0.01158309],\n",
       "        [ 0.0117719 ],\n",
       "        [-0.06728734],\n",
       "        [ 0.00890634]])"
      ]
     },
     "execution_count": 54,
     "metadata": {
      "tags": []
     },
     "output_type": "execute_result"
    }
   ],
   "source": [
    "epsilon = Y_test-yhat_test\n",
    "epsilon"
   ]
  },
  {
   "cell_type": "code",
   "execution_count": 47,
   "metadata": {
    "colab": {},
    "colab_type": "code",
    "id": "YR7PQy-2lKw-"
   },
   "outputs": [],
   "source": [
    "epsilon_T = epsilon.T"
   ]
  },
  {
   "cell_type": "code",
   "execution_count": 48,
   "metadata": {
    "colab": {},
    "colab_type": "code",
    "id": "Hy9XFci1lNOz"
   },
   "outputs": [],
   "source": [
    "RSS = np.dot(epsilon_T,epsilon)"
   ]
  },
  {
   "cell_type": "code",
   "execution_count": 49,
   "metadata": {
    "colab": {
     "base_uri": "https://localhost:8080/",
     "height": 35
    },
    "colab_type": "code",
    "id": "CRtTTcE9lPez",
    "outputId": "b0bd454d-d25d-4965-b7a8-cfc76333b993"
   },
   "outputs": [
    {
     "data": {
      "text/plain": [
       "matrix([[0.32203609]])"
      ]
     },
     "execution_count": 49,
     "metadata": {
      "tags": []
     },
     "output_type": "execute_result"
    }
   ],
   "source": [
    "RSS"
   ]
  },
  {
   "cell_type": "code",
   "execution_count": 51,
   "metadata": {
    "colab": {
     "base_uri": "https://localhost:8080/",
     "height": 35
    },
    "colab_type": "code",
    "id": "BbPAC3lulSZY",
    "outputId": "683662e2-5546-4f40-960f-49ed174babe5"
   },
   "outputs": [
    {
     "data": {
      "text/plain": [
       "matrix([[0.56748224]])"
      ]
     },
     "execution_count": 51,
     "metadata": {
      "tags": []
     },
     "output_type": "execute_result"
    }
   ],
   "source": [
    "eps = np.sqrt(RSS)\n",
    "eps"
   ]
  },
  {
   "cell_type": "code",
   "execution_count": 53,
   "metadata": {
    "colab": {
     "base_uri": "https://localhost:8080/",
     "height": 265
    },
    "colab_type": "code",
    "id": "LmWSsi87lau0",
    "outputId": "9555062f-82c7-471f-d288-5445ce71fad3"
   },
   "outputs": [
    {
     "data": {
      "image/png": "[encoded data removed]",
      "text/plain": [
       "<Figure size 432x288 with 1 Axes>"
      ]
     },
     "metadata": {
      "needs_background": "light",
      "tags": []
     },
     "output_type": "display_data"
    }
   ],
   "source": [
    "plt1 = plt.figure()\n",
    "plt.plot(range(80),np.array(epsilon))\n",
    "plt.show()"
   ]
  },
  {
   "cell_type": "code",
   "execution_count": null,
   "metadata": {
    "colab": {},
    "colab_type": "code",
    "id": "LpeSjloMTT0_"
   },
   "outputs": [],
   "source": []
  }
 ],
 "metadata": {
  "colab": {
   "collapsed_sections": [],
   "name": "Exp-5(MLR_NUMPY).ipynb",
   "provenance": []
  },
  "kernelspec": {
   "display_name": "Python 3",
   "language": "python",
   "name": "python3"
  },
  "language_info": {
   "codemirror_mode": {
    "name": "ipython",
    "version": 3
   },
   "file_extension": ".py",
   "mimetype": "text/x-python",
   "name": "python",
   "nbconvert_exporter": "python",
   "pygments_lexer": "ipython3",
   "version": "3.7.6"
  }
 },
 "nbformat": 4,
 "nbformat_minor": 1
}
