{
 "cells": [
  {
   "cell_type": "code",
   "execution_count": null,
   "metadata": {
    "colab": {},
    "colab_type": "code",
    "id": "RAf3jQ-2WNfc"
   },
   "outputs": [],
   "source": [
    "import matplotlib.pyplot as plt\n",
    "import random"
   ]
  },
  {
   "cell_type": "code",
   "execution_count": 4,
   "metadata": {
    "colab": {},
    "colab_type": "code",
    "id": "Og8OtsvRWwzz"
   },
   "outputs": [],
   "source": [
    "x=[0,1,2,3,4,5,6,7,8,9]\n",
    "#y=[0,1,2,3,4,5,6,7,8,9]\n",
    "y=[1,3,2,5,7,8,8,9,10,12]\n"
   ]
  },
  {
   "cell_type": "code",
   "execution_count": 5,
   "metadata": {
    "colab": {
     "base_uri": "https://localhost:8080/",
     "height": 282
    },
    "colab_type": "code",
    "id": "M8OT-1S_Wvlw",
    "outputId": "3a38e805-6fef-46ff-ed19-49141783c8b6"
   },
   "outputs": [
    {
     "data": {
      "text/plain": [
       "[<matplotlib.lines.Line2D at 0x7fc8de009e10>]"
      ]
     },
     "execution_count": 5,
     "metadata": {
      "tags": []
     },
     "output_type": "execute_result"
    },
    {
     "data": {
      "image/png": "[encoded data removed]",
      "text/plain": [
       "<Figure size 432x288 with 1 Axes>"
      ]
     },
     "metadata": {
      "needs_background": "light",
      "tags": []
     },
     "output_type": "display_data"
    }
   ],
   "source": [
    "plt.plot(x,y,'o')"
   ]
  },
  {
   "cell_type": "code",
   "execution_count": 21,
   "metadata": {
    "colab": {
     "base_uri": "https://localhost:8080/",
     "height": 34
    },
    "colab_type": "code",
    "id": "1wl7B7idYOyj",
    "outputId": "789d9ee1-d34b-4783-bd20-a7b9ed125264"
   },
   "outputs": [
    {
     "name": "stdout",
     "output_type": "stream",
     "text": [
      "[0, 0]\n"
     ]
    }
   ],
   "source": [
    "alpha=0.1\n",
    "Theta=[0,0]   #[c,m]   \n",
    "print(Theta)"
   ]
  },
  {
   "cell_type": "code",
   "execution_count": 7,
   "metadata": {
    "colab": {},
    "colab_type": "code",
    "id": "K7dtLO7PaC2j"
   },
   "outputs": [],
   "source": [
    "def predict(x,Theta):# y = m*x + c     \n",
    "    return x*Theta[1] + Theta[0]"
   ]
  },
  {
   "cell_type": "code",
   "execution_count": null,
   "metadata": {
    "colab": {},
    "colab_type": "code",
    "id": "FzYBTrfyahBg"
   },
   "outputs": [],
   "source": [
    "for i in range(len(x)):\n",
    "    y_hat = predict(x[i],Theta)\n",
    "    print(\"Expected=%.3f, Predicted=%.3f\" % (y[i], y_hat))"
   ]
  },
  {
   "cell_type": "code",
   "execution_count": 13,
   "metadata": {
    "colab": {},
    "colab_type": "code",
    "id": "ZfQQYdtpa0Tw"
   },
   "outputs": [],
   "source": [
    "# Estimate linear regression coefficients using stochastic gradient descent\n",
    "def update_parameter(x,y,Theta,alpha,epoch):  \n",
    "    sum_errors = []\n",
    "    for no_time in range(epoch):\n",
    "        sum_error = 0\n",
    "        for i in range(len(x)):   #len(x)=10\n",
    "            y_hat = predict(x[i],Theta)      \n",
    "            error = y_hat-y[i]                  \n",
    "            sum_error = sum_error + error**2  \n",
    "            Theta[1] = Theta[1] - (alpha*error*x[i])   \n",
    "            Theta[0] = Theta[0] - (alpha*error)\n",
    "        sum_errors.append(sum_error)\n",
    "        print('>epoch=%d, lrate=%.3f, error=%.3f' % (no_time, alpha, sum_error))\n",
    "        \n",
    "    plt.plot(range(epoch),sum_errors)\n",
    "    plt.show()\n",
    "    return Theta"
   ]
  },
  {
   "cell_type": "markdown",
   "metadata": {
    "colab_type": "text",
    "id": "31-DZDBYKjPS"
   },
   "source": [
    "vanila GD\n",
    "\n",
    "for i in range(epoch):\n",
    "\n",
    "  grad=compute_grad(data,param)\n",
    "\n",
    "  param=param-alpha*grad\n",
    "\n",
    "\n",
    "\n",
    "SGD\n",
    "\n",
    "for i in range(epoch):\n",
    "\n",
    "     for eachdata in data:\n",
    "\n",
    "      grad=compute_grade(eachdata,param)\n",
    "      \n",
    "      param=param-alpha*grad\n"
   ]
  },
  {
   "cell_type": "code",
   "execution_count": 16,
   "metadata": {
    "colab": {
     "base_uri": "https://localhost:8080/",
     "height": 618
    },
    "colab_type": "code",
    "id": "vXiBGVG1bz6l",
    "outputId": "ffc605ab-fa89-4320-acc2-926f8a59e9ed"
   },
   "outputs": [
    {
     "name": "stdout",
     "output_type": "stream",
     "text": [
      ">epoch=0, lrate=0.001, error=430.439\n",
      ">epoch=1, lrate=0.001, error=240.688\n",
      ">epoch=2, lrate=0.001, error=136.449\n",
      ">epoch=3, lrate=0.001, error=79.146\n",
      ">epoch=4, lrate=0.001, error=47.614\n",
      ">epoch=5, lrate=0.001, error=30.240\n",
      ">epoch=6, lrate=0.001, error=20.649\n",
      ">epoch=7, lrate=0.001, error=15.340\n",
      ">epoch=8, lrate=0.001, error=12.390\n",
      ">epoch=9, lrate=0.001, error=10.743\n",
      ">epoch=10, lrate=0.001, error=9.815\n",
      ">epoch=11, lrate=0.001, error=9.286\n",
      ">epoch=12, lrate=0.001, error=8.979\n",
      ">epoch=13, lrate=0.001, error=8.797\n",
      ">epoch=14, lrate=0.001, error=8.685\n",
      ">epoch=15, lrate=0.001, error=8.612\n",
      ">epoch=16, lrate=0.001, error=8.563\n",
      ">epoch=17, lrate=0.001, error=8.526\n",
      ">epoch=18, lrate=0.001, error=8.498\n",
      ">epoch=19, lrate=0.001, error=8.474\n"
     ]
    },
    {
     "data": {
      "image/png": "[encoded data removed]",
      "text/plain": [
       "<Figure size 432x288 with 1 Axes>"
      ]
     },
     "metadata": {
      "needs_background": "light",
      "tags": []
     },
     "output_type": "display_data"
    },
    {
     "name": "stdout",
     "output_type": "stream",
     "text": [
      "[0.27258766609491625, 1.31307468366544]\n"
     ]
    }
   ],
   "source": [
    "up_para = update_parameter(x,y,[0,0],0.001,20)\n",
    "print(up_para)"
   ]
  },
  {
   "cell_type": "code",
   "execution_count": 17,
   "metadata": {
    "colab": {
     "base_uri": "https://localhost:8080/",
     "height": 646
    },
    "colab_type": "code",
    "id": "prRMenvHcRak",
    "outputId": "799eb9f1-63a4-473e-d101-db7da176ab17"
   },
   "outputs": [
    {
     "name": "stdout",
     "output_type": "stream",
     "text": [
      "[0.27258766609491625, 1.5856623497603561, 2.898737033425796, 4.211811717091235, 5.524886400756676, 6.8379610844221155, 8.151035768087555, 9.464110451752996, 10.777185135418435, 12.090259819083874]\n",
      "[1, 3, 2, 5, 7, 8, 8, 9, 10, 12]\n"
     ]
    },
    {
     "data": {
      "image/png": "[encoded data removed]",
      "text/plain": [
       "<Figure size 720x720 with 1 Axes>"
      ]
     },
     "metadata": {
      "needs_background": "light",
      "tags": []
     },
     "output_type": "display_data"
    }
   ],
   "source": [
    "#y_hat=[]\n",
    "#for i in x:\n",
    "  #y_hat.append(predict(i,up_para))\n",
    "y_hat  = [predict(i,up_para) for i in x]\n",
    "print(y_hat)\n",
    "print(y)\n",
    "plt.figure(figsize=(10,10))\n",
    "plt.scatter(x,y)\n",
    "plt.plot(x,y_hat)\n",
    "plt.show()"
   ]
  },
  {
   "cell_type": "code",
   "execution_count": null,
   "metadata": {
    "colab": {
     "base_uri": "https://localhost:8080/",
     "height": 34
    },
    "colab_type": "code",
    "id": "kj1nCzP4dhbI",
    "outputId": "1b7a6929-3235-44a8-c9db-4203df918d0d"
   },
   "outputs": [
    {
     "name": "stdout",
     "output_type": "stream",
     "text": [
      "2.898737033425796\n"
     ]
    }
   ],
   "source": [
    "yhat=predict(2,up_para)\n",
    "print(yhat)"
   ]
  }
 ],
 "metadata": {
  "colab": {
   "collapsed_sections": [],
   "name": "Lab-1(simple LR_SMALL).ipynb",
   "provenance": []
  },
  "kernelspec": {
   "display_name": "Python 3",
   "language": "python",
   "name": "python3"
  },
  "language_info": {
   "codemirror_mode": {
    "name": "ipython",
    "version": 3
   },
   "file_extension": ".py",
   "mimetype": "text/x-python",
   "name": "python",
   "nbconvert_exporter": "python",
   "pygments_lexer": "ipython3",
   "version": "3.7.6"
  }
 },
 "nbformat": 4,
 "nbformat_minor": 1
}
