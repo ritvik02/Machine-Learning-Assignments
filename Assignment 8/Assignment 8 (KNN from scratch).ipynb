{
 "cells": [
  {
   "cell_type": "markdown",
   "metadata": {
    "id": "AP6u5ZuBeXYE"
   },
   "source": [
    "# Step 1 : Importing Library"
   ]
  },
  {
   "cell_type": "code",
   "execution_count": 1,
   "metadata": {
    "id": "chWYfcBpeXYG"
   },
   "outputs": [],
   "source": [
    "import numpy as np\n",
    "import matplotlib.pyplot as plt\n",
    "from matplotlib import style\n",
    "from math import sqrt\n",
    "from collections import Counter"
   ]
  },
  {
   "cell_type": "markdown",
   "metadata": {
    "id": "Qa_FzPcWeXYO"
   },
   "source": [
    "# Step 2 : Creating Dummy Input data and Output data and defining K"
   ]
  },
  {
   "cell_type": "code",
   "execution_count": 2,
   "metadata": {
    "id": "j6rZG_y4eXYP"
   },
   "outputs": [],
   "source": [
    " \n",
    "data  = {\"H\":[[7,7],[9,8],[7,9]],\"L\":[[1,1],[1,2],[3,3]]}\n",
    "k=3\n",
    "pred_pt = [5,5]"
   ]
  },
  {
   "cell_type": "code",
   "execution_count": 3,
   "metadata": {},
   "outputs": [
    {
     "data": {
      "text/plain": [
       "{'H': [[7, 7], [9, 8], [7, 9]], 'L': [[1, 1], [1, 2], [3, 3]]}"
      ]
     },
     "execution_count": 3,
     "metadata": {},
     "output_type": "execute_result"
    }
   ],
   "source": [
    "data"
   ]
  },
  {
   "cell_type": "code",
   "execution_count": 7,
   "metadata": {},
   "outputs": [
    {
     "data": {
      "text/plain": [
       "array([0, 0])"
      ]
     },
     "execution_count": 7,
     "metadata": {},
     "output_type": "execute_result"
    }
   ],
   "source": [
    "a=np.array([7,7])-np.array([7,7])\n",
    "a"
   ]
  },
  {
   "cell_type": "code",
   "execution_count": null,
   "metadata": {
    "id": "YEzraZJhtQGV"
   },
   "outputs": [],
   "source": [
    "print(np.linalg.norm(np.array([7,7])-np.array([7,7])))"
   ]
  },
  {
   "cell_type": "code",
   "execution_count": 6,
   "metadata": {},
   "outputs": [
    {
     "data": {
      "text/plain": [
       "array([-3, -2, -1,  0,  1,  2,  3,  4,  5])"
      ]
     },
     "execution_count": 6,
     "metadata": {},
     "output_type": "execute_result"
    }
   ],
   "source": [
    "a = np.arange(9)-3\n",
    "a"
   ]
  },
  {
   "cell_type": "markdown",
   "metadata": {
    "id": "-cLNiRrgl8N8"
   },
   "source": [
    "**Step 3: Wrtiting KNN Logic**"
   ]
  },
  {
   "cell_type": "code",
   "execution_count": null,
   "metadata": {
    "id": "rSjn81MTeXYT"
   },
   "outputs": [],
   "source": [
    "data  = {\"H\":[[7,7],[9,8],[7,9]],\"L\":[[1,1],[1,2],[3,3]]}\n",
    "def knn(data,pred_pt,k):\n",
    "  distances = [] \n",
    " \n",
    "  for grp in data:\n",
    "    #print(grp)\n",
    "    for pt in data[grp]:    \n",
    "        dist = np.linalg.norm(np.array(pred_pt)-np.array(pt))\n",
    "        distances.append((dist,grp))\n",
    "  print(distances)\n",
    "  print(sorted(distances)[0:k])\n",
    "  votes = []\n",
    "  for i in sorted(distances)[0:k]:\n",
    "      votes.append(i[1])\n",
    "  print(votes)\n",
    "  return Counter(votes).most_common()[0][0]"
   ]
  },
  {
   "cell_type": "markdown",
   "metadata": {
    "id": "9iP3M9gQeXY7"
   },
   "source": [
    "# Step 4 : Predicting Test data"
   ]
  },
  {
   "cell_type": "code",
   "execution_count": null,
   "metadata": {
    "colab": {
     "base_uri": "https://localhost:8080/",
     "height": 107
    },
    "id": "pf4QTn5AeXY8",
    "outputId": "3c24a89e-2d95-4be8-bc21-5658356c4a65"
   },
   "outputs": [
    {
     "name": "stdout",
     "output_type": "stream",
     "text": [
      "[(2.8284271247461903, 'H'), (5.0, 'H'), (4.47213595499958, 'H'), (5.656854249492381, 'L'), (5.0, 'L'), (2.8284271247461903, 'L')]\n",
      "[(2.8284271247461903, 'H'), (2.8284271247461903, 'L'), (4.47213595499958, 'H')]\n",
      "['H', 'L', 'H']\n"
     ]
    },
    {
     "data": {
      "application/vnd.google.colaboratory.intrinsic+json": {
       "type": "string"
      },
      "text/plain": [
       "'H'"
      ]
     },
     "execution_count": 15,
     "metadata": {
      "tags": []
     },
     "output_type": "execute_result"
    }
   ],
   "source": [
    "knn(data,pred_pt,3)"
   ]
  },
  {
   "cell_type": "markdown",
   "metadata": {
    "id": "vrQlkhhyeXZC"
   },
   "source": [
    "# Step 5 : Visulisation "
   ]
  },
  {
   "cell_type": "code",
   "execution_count": null,
   "metadata": {
    "colab": {
     "base_uri": "https://localhost:8080/",
     "height": 283
    },
    "id": "kFaBI_8ieXZC",
    "outputId": "1766a595-8726-45ff-b648-9439d524efb0"
   },
   "outputs": [
    {
     "data": {
      "text/plain": [
       "<matplotlib.collections.PathCollection at 0x7f38c8a37b70>"
      ]
     },
     "execution_count": 17,
     "metadata": {
      "tags": []
     },
     "output_type": "execute_result"
    },
    {
     "data": {
      "image/png": "[encoded data removed]",
      "text/plain": [
       "<Figure size 432x288 with 1 Axes>"
      ]
     },
     "metadata": {
      "needs_background": "light",
      "tags": []
     },
     "output_type": "display_data"
    }
   ],
   "source": [
    "for i in data:\n",
    "    for ii in data[i]:\n",
    "        plt.scatter(ii[0],ii[1],s=100)\n",
    "plt.scatter(5,5,s=100,marker='+')"
   ]
  },
  {
   "cell_type": "code",
   "execution_count": null,
   "metadata": {
    "id": "Db3OfKjceXZP"
   },
   "outputs": [],
   "source": [
    "dataset = {'k':[[1,2],[2,3],[3,1]],'s':[[20,31],[20,30]], 'r':[[6,5],[7,7],[8,6]]}\n",
    "new_features = [21,31]\n"
   ]
  },
  {
   "cell_type": "code",
   "execution_count": null,
   "metadata": {
    "id": "3ARCf6FueXnd"
   },
   "outputs": [],
   "source": [
    "study play result\n",
    "  6    7    p\n",
    "  1    1    f\n",
    "  2    1    f\n",
    "  0    0    f\n",
    "  6    6    p\n",
    "  7    7    p\n",
    "\n",
    "6    7    ?"
   ]
  }
 ],
 "metadata": {
  "colab": {
   "collapsed_sections": [],
   "name": "KNN_pythoncode.ipynb",
   "provenance": []
  },
  "kernelspec": {
   "display_name": "Python 3",
   "language": "python",
   "name": "python3"
  },
  "language_info": {
   "codemirror_mode": {
    "name": "ipython",
    "version": 3
   },
   "file_extension": ".py",
   "mimetype": "text/x-python",
   "name": "python",
   "nbconvert_exporter": "python",
   "pygments_lexer": "ipython3",
   "version": "3.7.6"
  }
 },
 "nbformat": 4,
 "nbformat_minor": 1
}
