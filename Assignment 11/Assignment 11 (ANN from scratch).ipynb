{
 "cells": [
  {
   "cell_type": "code",
   "execution_count": 1,
   "metadata": {
    "id": "dfEkrQfGpXPl"
   },
   "outputs": [],
   "source": [
    "import numpy as np\n",
    "import matplotlib.pyplot as plt"
   ]
  },
  {
   "cell_type": "code",
   "execution_count": 2,
   "metadata": {
    "id": "ghgzq_8PpjWC"
   },
   "outputs": [],
   "source": [
    "input=np.linspace(-10,10,100)\n"
   ]
  },
  {
   "cell_type": "code",
   "execution_count": 3,
   "metadata": {
    "id": "FPvKvraippXG"
   },
   "outputs": [],
   "source": [
    "def sigmoid(x):\n",
    "  val=1/(1+np.exp(-x))\n",
    "  return val"
   ]
  },
  {
   "cell_type": "code",
   "execution_count": 4,
   "metadata": {
    "id": "9HqX_GdEpxuF"
   },
   "outputs": [],
   "source": [
    "output=sigmoid(input)"
   ]
  },
  {
   "cell_type": "code",
   "execution_count": 5,
   "metadata": {
    "colab": {
     "base_uri": "https://localhost:8080/",
     "height": 312
    },
    "id": "dIh8x8Cnp2KN",
    "outputId": "f5af8fdf-6adb-4e79-c657-d1f322813eb6"
   },
   "outputs": [
    {
     "data": {
      "text/plain": [
       "Text(0.5, 1.0, 'Sigmoid Function')"
      ]
     },
     "execution_count": 5,
     "metadata": {},
     "output_type": "execute_result"
    },
    {
     "data": {
      "image/png": "[encoded data removed]",
      "text/plain": [
       "<Figure size 432x288 with 1 Axes>"
      ]
     },
     "metadata": {
      "needs_background": "light"
     },
     "output_type": "display_data"
    }
   ],
   "source": [
    "plt.plot(input,output)\n",
    "plt.xlabel(\"Input\")\n",
    "plt.ylabel(\"Output\")\n",
    "plt.title(\"Sigmoid Function\")"
   ]
  },
  {
   "cell_type": "code",
   "execution_count": 6,
   "metadata": {
    "id": "W4neU7SsuG6X"
   },
   "outputs": [],
   "source": [
    "input_features=np.array([[0,0],[0,1],[1,0],[1,1]])"
   ]
  },
  {
   "cell_type": "code",
   "execution_count": 7,
   "metadata": {
    "colab": {
     "base_uri": "https://localhost:8080/",
     "height": 101
    },
    "id": "zMFDLr3YqW9J",
    "outputId": "480d6826-0c06-4b37-a585-129c18d126dc"
   },
   "outputs": [
    {
     "name": "stdout",
     "output_type": "stream",
     "text": [
      "(4, 1)\n"
     ]
    },
    {
     "data": {
      "text/plain": [
       "array([[0],\n",
       "       [1],\n",
       "       [1],\n",
       "       [1]])"
      ]
     },
     "execution_count": 7,
     "metadata": {},
     "output_type": "execute_result"
    }
   ],
   "source": [
    "target_output=np.array([[0,1,1,1]])\n",
    "target_output=target_output.reshape(4,1)\n",
    "print(target_output.shape)\n",
    "target_output"
   ]
  },
  {
   "cell_type": "code",
   "execution_count": null,
   "metadata": {
    "colab": {
     "base_uri": "https://localhost:8080/",
     "height": 67
    },
    "id": "0v37UMONrUsU",
    "outputId": "10044f42-3f04-40b7-f935-002e79f9f83e"
   },
   "outputs": [
    {
     "name": "stdout",
     "output_type": "stream",
     "text": [
      "(2, 1)\n"
     ]
    },
    {
     "data": {
      "text/plain": [
       "array([[0.1],\n",
       "       [0.2]])"
      ]
     },
     "execution_count": 8,
     "metadata": {
      "tags": []
     },
     "output_type": "execute_result"
    }
   ],
   "source": [
    "weights=np.array([[0.1],[0.2]])\n",
    "print(weights.shape)\n",
    "weights"
   ]
  },
  {
   "cell_type": "code",
   "execution_count": null,
   "metadata": {
    "id": "PuuLFswTrucj"
   },
   "outputs": [],
   "source": [
    "bias=0.3\n",
    "lr=0.05"
   ]
  },
  {
   "cell_type": "code",
   "execution_count": null,
   "metadata": {
    "id": "tZTBDW45r4bq"
   },
   "outputs": [],
   "source": [
    "#Derivation of sigmoid function\n",
    "\n",
    "def sigmoid_der(x):\n",
    "  return sigmoid(x)*(1-sigmoid(x))"
   ]
  },
  {
   "cell_type": "code",
   "execution_count": null,
   "metadata": {
    "id": "2NV3J6ywsLCo"
   },
   "outputs": [],
   "source": [
    "for epoch in range(10000):\n",
    "  inputs=input_features\n",
    "  in_o=np.dot(inputs,weights)+bias\n",
    "  out_o=sigmoid(in_o)\n",
    "\n",
    "  #calculate erroe\n",
    "  error=out_o-target_output\n",
    "\n",
    "  x=error.sum()\n",
    "  #print(x)\n",
    "\n",
    "  #calculating derivative\n",
    "  derror_douto=error\n",
    "  douto_dino=sigmoid_der(out_o)\n",
    "\n",
    "  deriv=derror_douto*douto_dino\n",
    "\n",
    "  inputs=input_features.T\n",
    "  deriv_final=np.dot(inputs,deriv)\n",
    "\n",
    "  weights-=lr*deriv_final\n",
    "\n",
    "  for i in deriv:\n",
    "    bias-=lr*i"
   ]
  },
  {
   "cell_type": "code",
   "execution_count": null,
   "metadata": {
    "colab": {
     "base_uri": "https://localhost:8080/",
     "height": 50
    },
    "id": "iTlGmgPUuszA",
    "outputId": "d1a7286b-9ecc-4adb-e959-937b4dacf5fe"
   },
   "outputs": [
    {
     "name": "stdout",
     "output_type": "stream",
     "text": [
      "[[9.16649275]\n",
      " [9.16652893]]\n"
     ]
    }
   ],
   "source": [
    "print(weights)"
   ]
  },
  {
   "cell_type": "code",
   "execution_count": null,
   "metadata": {
    "colab": {
     "base_uri": "https://localhost:8080/",
     "height": 34
    },
    "id": "-rvMHZkCuwZ4",
    "outputId": "e528ebd9-b45a-4644-ee9a-727a03116dbb"
   },
   "outputs": [
    {
     "name": "stdout",
     "output_type": "stream",
     "text": [
      "[-4.2393552]\n"
     ]
    }
   ],
   "source": [
    "print(bias)"
   ]
  },
  {
   "cell_type": "code",
   "execution_count": null,
   "metadata": {
    "colab": {
     "base_uri": "https://localhost:8080/",
     "height": 34
    },
    "id": "ArorZrPju-DZ",
    "outputId": "01bd02f0-e8fd-4298-d1e9-2f4ed25e3b75"
   },
   "outputs": [
    {
     "name": "stdout",
     "output_type": "stream",
     "text": [
      "[0.99280493]\n"
     ]
    }
   ],
   "source": [
    "single_point=np.array([1,0])\n",
    "\n",
    "result1=np.dot(single_point,weights)+bias\n",
    "result2=sigmoid(result1)\n",
    "print(result2)"
   ]
  },
  {
   "cell_type": "code",
   "execution_count": null,
   "metadata": {
    "colab": {
     "base_uri": "https://localhost:8080/",
     "height": 34
    },
    "id": "UeLqIpaRvg8t",
    "outputId": "a57c72e8-f947-45d0-d184-43ff8c738b6f"
   },
   "outputs": [
    {
     "name": "stdout",
     "output_type": "stream",
     "text": [
      "[0.01421199]\n"
     ]
    }
   ],
   "source": [
    "single_point=np.array([0,0])\n",
    "\n",
    "result1=np.dot(single_point,weights)+bias\n",
    "result2=sigmoid(result1)\n",
    "print(result2)"
   ]
  }
 ],
 "metadata": {
  "colab": {
   "collapsed_sections": [],
   "name": "ANN OR PYTHON code.ipynb",
   "provenance": []
  },
  "kernelspec": {
   "display_name": "Python 3",
   "language": "python",
   "name": "python3"
  },
  "language_info": {
   "codemirror_mode": {
    "name": "ipython",
    "version": 3
   },
   "file_extension": ".py",
   "mimetype": "text/x-python",
   "name": "python",
   "nbconvert_exporter": "python",
   "pygments_lexer": "ipython3",
   "version": "3.7.6"
  }
 },
 "nbformat": 4,
 "nbformat_minor": 1
}
