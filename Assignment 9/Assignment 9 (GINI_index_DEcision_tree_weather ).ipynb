{
 "cells": [
  {
   "cell_type": "code",
   "execution_count": 43,
   "metadata": {
    "id": "GUfzUZtQaAdB"
   },
   "outputs": [],
   "source": [
    "header=[\"outlook\",\"temperature\",\"humidity\",\"wind\",\"decision\"]\n",
    "training_data=[\n",
    "['sunny','hot','high','weak','no'],\n",
    "['sunny','hot','high','strong','no'],\n",
    "['overcast','hot','high','weak','yes'],\n",
    "['rain','mild','high','weak','yes'],\n",
    "['rain','cool','normal','weak','yes'],\n",
    "['rain','cool','normal','strong','no'],\n",
    "['overcast','cool','normal','strong','yes'],\n",
    "['sunny','mild','high','weak','no'],\n",
    "['sunny','cool','normal','weak','yes'],\n",
    "]"
   ]
  },
  {
   "cell_type": "code",
   "execution_count": 44,
   "metadata": {
    "id": "uFIKxmiZaAdN"
   },
   "outputs": [],
   "source": [
    "def unique_vals(Data, col):\n",
    "    return set([row[col] for row in Data])"
   ]
  },
  {
   "cell_type": "code",
   "execution_count": 46,
   "metadata": {
    "colab": {
     "base_uri": "https://localhost:8080/",
     "height": 35
    },
    "id": "r3pPZTBOaAdS",
    "outputId": "62e86df1-9aff-49d0-c404-43d4acede8fa"
   },
   "outputs": [
    {
     "data": {
      "text/plain": [
       "{'cool', 'hot', 'mild'}"
      ]
     },
     "execution_count": 46,
     "metadata": {
      "tags": []
     },
     "output_type": "execute_result"
    }
   ],
   "source": [
    "unique_vals(training_data, 1)"
   ]
  },
  {
   "cell_type": "code",
   "execution_count": null,
   "metadata": {
    "id": "csmzgF8VaAdY"
   },
   "outputs": [],
   "source": [
    "def class_counts(Data):\n",
    "    counts = {} \n",
    "    for row in Data:\n",
    "        label = row[-1]#['sunny','hot','high','strong','no']\n",
    "        if label not in counts:\n",
    "            counts[label] = 0\n",
    "        counts[label] += 1\n",
    "    return counts"
   ]
  },
  {
   "cell_type": "code",
   "execution_count": 47,
   "metadata": {
    "colab": {
     "base_uri": "https://localhost:8080/",
     "height": 35
    },
    "id": "pO69mrFIaAdb",
    "outputId": "81b3a421-5818-44c0-edef-600b8cfb930d"
   },
   "outputs": [
    {
     "data": {
      "text/plain": [
       "{'no': 4, 'yes': 5}"
      ]
     },
     "execution_count": 47,
     "metadata": {
      "tags": []
     },
     "output_type": "execute_result"
    }
   ],
   "source": [
    "class_counts(training_data)"
   ]
  },
  {
   "cell_type": "code",
   "execution_count": 48,
   "metadata": {
    "id": "CjtMHeLiaAde"
   },
   "outputs": [],
   "source": [
    "def is_numeric(value):\n",
    "    return isinstance(value, int) or isinstance(value, float)"
   ]
  },
  {
   "cell_type": "code",
   "execution_count": 49,
   "metadata": {
    "colab": {
     "base_uri": "https://localhost:8080/",
     "height": 35
    },
    "id": "zclpv4U1aAdh",
    "outputId": "a71a19c8-d667-4253-af64-fbb8da5c7a40"
   },
   "outputs": [
    {
     "data": {
      "text/plain": [
       "False"
      ]
     },
     "execution_count": 49,
     "metadata": {
      "tags": []
     },
     "output_type": "execute_result"
    }
   ],
   "source": [
    "is_numeric(\"grreen\")"
   ]
  },
  {
   "cell_type": "code",
   "execution_count": null,
   "metadata": {
    "id": "-3FB4AZSaAdj"
   },
   "outputs": [],
   "source": [
    "class Question:\n",
    "    def __init__(self, column, value):#0,'sunny'\n",
    "        self.column = column \n",
    "        self.value = value   \n",
    "\n",
    "    def match(self, example):#['sunny', 'hot', 'high', 'strong', 'no']\n",
    "        val = example[self.column]# 'sunny'\n",
    "        if is_numeric(val):\n",
    "            return val >= self.value \n",
    "        else:\n",
    "            return val == self.value  \n",
    "\n",
    "    def __repr__(self):\n",
    "        # This is just a helper method to print\n",
    "        # the question in a readable format.\n",
    "        condition = \"==\"\n",
    "        if is_numeric(self.value):\n",
    "            condition = \">=\"\n",
    "        return \"Is %s %s %s?\" % (\n",
    "            header[self.column], condition, str(self.value))"
   ]
  },
  {
   "cell_type": "code",
   "execution_count": 51,
   "metadata": {
    "colab": {
     "base_uri": "https://localhost:8080/",
     "height": 35
    },
    "id": "f0DBg9o7aAdm",
    "outputId": "e858cb07-d555-4fe4-e6c6-643d93e0b233"
   },
   "outputs": [
    {
     "data": {
      "text/plain": [
       "Is outlook == sunny?"
      ]
     },
     "execution_count": 51,
     "metadata": {
      "tags": []
     },
     "output_type": "execute_result"
    }
   ],
   "source": [
    "Question(0,'sunny')"
   ]
  },
  {
   "cell_type": "code",
   "execution_count": 57,
   "metadata": {
    "id": "L22YRbC1aAdp"
   },
   "outputs": [],
   "source": [
    "q=Question(1,'hot')"
   ]
  },
  {
   "cell_type": "code",
   "execution_count": 58,
   "metadata": {
    "colab": {
     "base_uri": "https://localhost:8080/",
     "height": 72
    },
    "id": "oEjTUIgXaAds",
    "outputId": "bb2bcde7-2296-4faf-a43c-6ddc3174e09a"
   },
   "outputs": [
    {
     "name": "stdout",
     "output_type": "stream",
     "text": [
      "True\n",
      "[['sunny', 'hot', 'high', 'weak', 'no'], ['sunny', 'hot', 'high', 'strong', 'no'], ['overcast', 'hot', 'high', 'weak', 'yes'], ['rain', 'mild', 'high', 'weak', 'yes'], ['rain', 'cool', 'normal', 'weak', 'yes'], ['rain', 'cool', 'normal', 'strong', 'no'], ['overcast', 'cool', 'normal', 'strong', 'yes'], ['sunny', 'mild', 'high', 'weak', 'no'], ['sunny', 'cool', 'normal', 'weak', 'yes']]\n"
     ]
    }
   ],
   "source": [
    "print(q.match(training_data[2]))\n",
    "print(training_data)"
   ]
  },
  {
   "cell_type": "code",
   "execution_count": 59,
   "metadata": {
    "id": "nWvGz4VoaAdx"
   },
   "outputs": [],
   "source": [
    "def partition(rows, question):\n",
    "    true_rows, false_rows = [], []\n",
    "    for row in rows:\n",
    "        if question.match(row):\n",
    "            true_rows.append(row)\n",
    "        else:\n",
    "            false_rows.append(row)\n",
    "    return true_rows, false_rows"
   ]
  },
  {
   "cell_type": "code",
   "execution_count": 60,
   "metadata": {
    "id": "yi233QuwaAdz"
   },
   "outputs": [],
   "source": [
    "true_rows, false_rows =partition(training_data, Question(0,\"sunny\"))"
   ]
  },
  {
   "cell_type": "code",
   "execution_count": 61,
   "metadata": {
    "colab": {
     "base_uri": "https://localhost:8080/",
     "height": 104
    },
    "id": "QdoOkroLaAd2",
    "outputId": "96afdc4c-e332-4c8e-cc52-6990ed34860a"
   },
   "outputs": [
    {
     "data": {
      "text/plain": [
       "[['overcast', 'hot', 'high', 'weak', 'yes'],\n",
       " ['rain', 'mild', 'high', 'weak', 'yes'],\n",
       " ['rain', 'cool', 'normal', 'weak', 'yes'],\n",
       " ['rain', 'cool', 'normal', 'strong', 'no'],\n",
       " ['overcast', 'cool', 'normal', 'strong', 'yes']]"
      ]
     },
     "execution_count": 61,
     "metadata": {
      "tags": []
     },
     "output_type": "execute_result"
    }
   ],
   "source": [
    "false_rows"
   ]
  },
  {
   "cell_type": "code",
   "execution_count": 62,
   "metadata": {
    "colab": {
     "base_uri": "https://localhost:8080/",
     "height": 87
    },
    "id": "urVttwzEaAd5",
    "outputId": "1716e552-8a6c-4a45-b1ba-3be6add2a2f3"
   },
   "outputs": [
    {
     "data": {
      "text/plain": [
       "[['sunny', 'hot', 'high', 'weak', 'no'],\n",
       " ['sunny', 'hot', 'high', 'strong', 'no'],\n",
       " ['sunny', 'mild', 'high', 'weak', 'no'],\n",
       " ['sunny', 'cool', 'normal', 'weak', 'yes']]"
      ]
     },
     "execution_count": 62,
     "metadata": {
      "tags": []
     },
     "output_type": "execute_result"
    }
   ],
   "source": [
    "true_rows"
   ]
  },
  {
   "cell_type": "code",
   "execution_count": 67,
   "metadata": {
    "id": "Av_GCsetaAd-"
   },
   "outputs": [],
   "source": [
    "# {g:1,l:1,a:2}\n",
    "def gini(rows):\n",
    "    counts = class_counts(rows)   \n",
    "    print(counts)\n",
    "    impurity = 1\n",
    "    i=0\n",
    "    for lbl in counts:\n",
    "        prob_of_lbl = counts[lbl] / float(len(rows))\n",
    "        #print(prob_of_lbl)\n",
    "        i=i+prob_of_lbl**2\n",
    "    impurity =impurity-i\n",
    "    return impurity"
   ]
  },
  {
   "cell_type": "code",
   "execution_count": 68,
   "metadata": {
    "colab": {
     "base_uri": "https://localhost:8080/",
     "height": 52
    },
    "id": "WD67qE5TaAeB",
    "outputId": "389aee65-fa6b-4b67-dea6-786a9cc8126e"
   },
   "outputs": [
    {
     "name": "stdout",
     "output_type": "stream",
     "text": [
      "{'no': 4, 'yes': 5}\n"
     ]
    },
    {
     "data": {
      "text/plain": [
       "0.49382716049382713"
      ]
     },
     "execution_count": 68,
     "metadata": {
      "tags": []
     },
     "output_type": "execute_result"
    }
   ],
   "source": [
    "gini(training_data)"
   ]
  },
  {
   "cell_type": "code",
   "execution_count": null,
   "metadata": {
    "id": "2_FqJ6PBaAeE"
   },
   "outputs": [],
   "source": [
    "def info_gain(true_rows, false_rows, current_uncertainty):\n",
    "    \"\"\"Information Gain.\n",
    "\n",
    "    The uncertainty of the starting node, minus the weighted impurity of\n",
    "    two child nodes.\n",
    "    \"\"\"\n",
    "    p = float(len(true_rows)) / (len(true_rows) + len(false_rows))\n",
    "    q = float(len(false_rows)) / (len(true_rows) + len(false_rows))\n",
    "    return current_uncertainty - p * gini(true_rows) - q * gini(false_rows)"
   ]
  },
  {
   "cell_type": "code",
   "execution_count": null,
   "metadata": {
    "id": "0a0SulkAaAeG"
   },
   "outputs": [],
   "source": [
    "true_rows, false_rows =partition(training_data, Question(1,'hot'))"
   ]
  },
  {
   "cell_type": "code",
   "execution_count": null,
   "metadata": {
    "colab": {
     "base_uri": "https://localhost:8080/",
     "height": 90
    },
    "id": "T-Y_AFPsaAeJ",
    "outputId": "e0640e59-b72a-44dc-cca8-2d4fd807039b"
   },
   "outputs": [
    {
     "name": "stdout",
     "output_type": "stream",
     "text": [
      "{'no': 4, 'yes': 5}\n",
      "{'no': 2, 'yes': 1}\n",
      "{'yes': 4, 'no': 2}\n"
     ]
    },
    {
     "data": {
      "text/plain": [
       "0.04938271604938271"
      ]
     },
     "execution_count": 30,
     "metadata": {
      "tags": []
     },
     "output_type": "execute_result"
    }
   ],
   "source": [
    "info_gain(true_rows, false_rows, gini(training_data))"
   ]
  },
  {
   "cell_type": "code",
   "execution_count": null,
   "metadata": {
    "id": "QkpGyrk4aAeM"
   },
   "outputs": [],
   "source": [
    "def find_best_split(rows):\n",
    "    best_gain = 0  # keep track of the best information gain\n",
    "    best_question = None  # keep train of the feature / value that produced it\n",
    "    current_uncertainty = gini(rows)\n",
    "    n_features = len(rows[0]) - 1  # number of columns\n",
    "    for col in range(n_features):  # for each feature\n",
    "        values = set([row[col] for row in rows])  # unique values in the column\n",
    "        for val in values:  # for each value\n",
    "            question = Question(col, val)\n",
    "            true_rows, false_rows = partition(rows, question)\n",
    "            if len(true_rows) == 0 or len(false_rows) == 0:\n",
    "                continue\n",
    "\n",
    "            gain = info_gain(true_rows, false_rows, current_uncertainty)\n",
    "\n",
    "            if gain >= best_gain:\n",
    "                best_gain, best_question = gain, question\n",
    "\n",
    "    return best_gain, best_question"
   ]
  },
  {
   "cell_type": "code",
   "execution_count": null,
   "metadata": {
    "colab": {
     "base_uri": "https://localhost:8080/",
     "height": 435
    },
    "id": "1_6p5X_ZaAeP",
    "outputId": "f4ddbfe1-1783-463e-9cde-2a781ba157f2"
   },
   "outputs": [
    {
     "name": "stdout",
     "output_type": "stream",
     "text": [
      "{'no': 4, 'yes': 5}\n",
      "{'yes': 2}\n",
      "{'no': 4, 'yes': 3}\n",
      "{'no': 3, 'yes': 1}\n",
      "{'yes': 4, 'no': 1}\n",
      "{'yes': 2, 'no': 1}\n",
      "{'no': 3, 'yes': 3}\n",
      "{'yes': 1, 'no': 1}\n",
      "{'no': 3, 'yes': 4}\n",
      "{'yes': 3, 'no': 1}\n",
      "{'no': 3, 'yes': 2}\n",
      "{'no': 2, 'yes': 1}\n",
      "{'yes': 4, 'no': 2}\n",
      "{'yes': 3, 'no': 1}\n",
      "{'no': 3, 'yes': 2}\n",
      "{'no': 3, 'yes': 2}\n",
      "{'yes': 3, 'no': 1}\n",
      "{'no': 2, 'yes': 4}\n",
      "{'no': 2, 'yes': 1}\n",
      "{'no': 2, 'yes': 1}\n",
      "{'no': 2, 'yes': 4}\n",
      "Is outlook == sunny?\n",
      "0.1493827160493828\n"
     ]
    }
   ],
   "source": [
    "best_gain, best_question = find_best_split(training_data)\n",
    "print(best_question)\n",
    "print(best_gain)"
   ]
  },
  {
   "cell_type": "code",
   "execution_count": null,
   "metadata": {
    "id": "k5LcAeGMaAeS"
   },
   "outputs": [],
   "source": [
    "class Leaf:\n",
    "\n",
    "    def __init__(self, rows):\n",
    "        self.predictions = class_counts(rows)#[[r,1,g],[r,1,g]]  "
   ]
  },
  {
   "cell_type": "code",
   "execution_count": null,
   "metadata": {
    "id": "ERbUCRSWaAeV"
   },
   "outputs": [],
   "source": [
    "class Decision_Node:\n",
    "\n",
    "    def __init__(self,\n",
    "                 question,\n",
    "                 true_branch,\n",
    "                 false_branch):\n",
    "        self.question = question\n",
    "        self.true_branch = true_branch\n",
    "        self.false_branch = false_branch"
   ]
  },
  {
   "cell_type": "code",
   "execution_count": null,
   "metadata": {
    "id": "kwMT-dzSaAeX"
   },
   "outputs": [],
   "source": [
    "def build_tree(rows):\n",
    "\n",
    "    gain, question = find_best_split(rows)\n",
    "\n",
    "    if gain == 0:\n",
    "        return Leaf(rows)\n",
    "\n",
    "    true_rows, false_rows = partition(rows, question)\n",
    "\n",
    "    true_branch = build_tree(true_rows)\n",
    "\n",
    "    false_branch = build_tree(false_rows)\n",
    "\n",
    "    return Decision_Node(question, true_branch, false_branch)"
   ]
  },
  {
   "cell_type": "code",
   "execution_count": null,
   "metadata": {
    "colab": {
     "base_uri": "https://localhost:8080/",
     "height": 1000
    },
    "id": "DIM48OKuaAeZ",
    "outputId": "d505f7af-d1af-472e-8a94-cdbc04078c2f"
   },
   "outputs": [
    {
     "name": "stdout",
     "output_type": "stream",
     "text": [
      "{'no': 4, 'yes': 5}\n",
      "{'yes': 2}\n",
      "{'no': 4, 'yes': 3}\n",
      "{'no': 3, 'yes': 1}\n",
      "{'yes': 4, 'no': 1}\n",
      "{'yes': 2, 'no': 1}\n",
      "{'no': 3, 'yes': 3}\n",
      "{'yes': 1, 'no': 1}\n",
      "{'no': 3, 'yes': 4}\n",
      "{'yes': 3, 'no': 1}\n",
      "{'no': 3, 'yes': 2}\n",
      "{'no': 2, 'yes': 1}\n",
      "{'yes': 4, 'no': 2}\n",
      "{'yes': 3, 'no': 1}\n",
      "{'no': 3, 'yes': 2}\n",
      "{'no': 3, 'yes': 2}\n",
      "{'yes': 3, 'no': 1}\n",
      "{'no': 2, 'yes': 4}\n",
      "{'no': 2, 'yes': 1}\n",
      "{'no': 2, 'yes': 1}\n",
      "{'no': 2, 'yes': 4}\n",
      "{'no': 3, 'yes': 1}\n",
      "{'no': 1}\n",
      "{'no': 2, 'yes': 1}\n",
      "{'yes': 1}\n",
      "{'no': 3}\n",
      "{'no': 2}\n",
      "{'no': 1, 'yes': 1}\n",
      "{'yes': 1}\n",
      "{'no': 3}\n",
      "{'no': 3}\n",
      "{'yes': 1}\n",
      "{'no': 2, 'yes': 1}\n",
      "{'no': 1}\n",
      "{'no': 1}\n",
      "{'no': 2, 'yes': 1}\n",
      "{'no': 3}\n",
      "{'no': 1}\n",
      "{'no': 2}\n",
      "{'no': 2}\n",
      "{'no': 1}\n",
      "{'no': 2}\n",
      "{'no': 1}\n",
      "{'no': 1}\n",
      "{'no': 2}\n",
      "{'yes': 1}\n",
      "{'yes': 4, 'no': 1}\n",
      "{'yes': 2}\n",
      "{'yes': 2, 'no': 1}\n",
      "{'yes': 2, 'no': 1}\n",
      "{'yes': 2}\n",
      "{'yes': 1}\n",
      "{'yes': 3, 'no': 1}\n",
      "{'yes': 2, 'no': 1}\n",
      "{'yes': 2}\n",
      "{'yes': 1}\n",
      "{'yes': 3, 'no': 1}\n",
      "{'yes': 2, 'no': 1}\n",
      "{'yes': 2}\n",
      "{'yes': 2}\n",
      "{'yes': 2, 'no': 1}\n",
      "{'yes': 3}\n",
      "{'no': 1, 'yes': 1}\n",
      "{'no': 1, 'yes': 1}\n",
      "{'yes': 3}\n",
      "{'no': 1, 'yes': 1}\n",
      "{'yes': 1}\n",
      "{'no': 1}\n",
      "{'no': 1}\n",
      "{'yes': 1}\n",
      "{'no': 1}\n",
      "{'yes': 1}\n",
      "{'yes': 3}\n",
      "{'yes': 1}\n",
      "{'yes': 2}\n",
      "{'yes': 2}\n",
      "{'yes': 1}\n",
      "{'yes': 1}\n",
      "{'yes': 2}\n",
      "{'yes': 1}\n",
      "{'yes': 2}\n",
      "{'yes': 1}\n",
      "{'yes': 2}\n",
      "{'yes': 1}\n",
      "{'yes': 2}\n",
      "{'yes': 2}\n",
      "{'yes': 1}\n",
      "<__main__.Decision_Node object at 0x7fd329e66e48>\n"
     ]
    }
   ],
   "source": [
    "my_tree = build_tree(training_data)\n",
    "print(my_tree)"
   ]
  },
  {
   "cell_type": "code",
   "execution_count": null,
   "metadata": {
    "id": "S-FdFGgRaAed"
   },
   "outputs": [],
   "source": [
    "def print_tree(node, spacing=\"   \"):\n",
    "    \"\"\"World's most elegant tree printing function.\"\"\"\n",
    "\n",
    "    # Base case: we've reached a leaf\n",
    "    if isinstance(node, Leaf):\n",
    "        print (spacing + \"Predict\", node.predictions)\n",
    "        return\n",
    "\n",
    "    # Print the question at this node\n",
    "    print (spacing + str(node.question))\n",
    "\n",
    "    # Call this function recursively on the true branch\n",
    "    print (spacing + '--> True:')\n",
    "    print_tree(node.true_branch, spacing + \"      \")\n",
    "\n",
    "    # Call this function recursively on the false branch\n",
    "    print (spacing + '--> False:')\n",
    "    print_tree(node.false_branch, spacing + \"     \")"
   ]
  },
  {
   "cell_type": "code",
   "execution_count": null,
   "metadata": {
    "colab": {
     "base_uri": "https://localhost:8080/",
     "height": 326
    },
    "id": "JElDH_hWaAef",
    "outputId": "0c148382-44aa-46ce-e32c-0a506a9208eb"
   },
   "outputs": [
    {
     "name": "stdout",
     "output_type": "stream",
     "text": [
      "   Is outlook == sunny?\n",
      "   --> True:\n",
      "         Is humidity == high?\n",
      "         --> True:\n",
      "               Predict {'no': 3}\n",
      "         --> False:\n",
      "              Predict {'yes': 1}\n",
      "   --> False:\n",
      "        Is wind == strong?\n",
      "        --> True:\n",
      "              Is outlook == rain?\n",
      "              --> True:\n",
      "                    Predict {'no': 1}\n",
      "              --> False:\n",
      "                   Predict {'yes': 1}\n",
      "        --> False:\n",
      "             Predict {'yes': 3}\n"
     ]
    }
   ],
   "source": [
    "print_tree(my_tree)"
   ]
  },
  {
   "cell_type": "code",
   "execution_count": null,
   "metadata": {
    "id": "Jbq6p7BJaAeh"
   },
   "outputs": [],
   "source": [
    "def print_leaf(counts):\n",
    "    \"\"\"A nicer way to print the predictions at a leaf.\"\"\"\n",
    "    total = sum(counts.values()) * 1.0\n",
    "    probs = {}\n",
    "    for lbl in counts.keys():\n",
    "        probs[lbl] = str(int(counts[lbl] / total * 100)) + \"%\"\n",
    "    return probs"
   ]
  },
  {
   "cell_type": "code",
   "execution_count": null,
   "metadata": {
    "id": "tfTOp42baAej"
   },
   "outputs": [],
   "source": [
    "def classify(row, node):\n",
    "\n",
    "    if isinstance(node, Leaf):\n",
    "        return node.predictions\n",
    "\n",
    "    if node.question.match(row):# colo = red\n",
    "        return classify(row, node.true_branch)\n",
    "    else:\n",
    "        return classify(row, node.false_branch)"
   ]
  },
  {
   "cell_type": "code",
   "execution_count": null,
   "metadata": {
    "id": "qsiFwnu9aAem"
   },
   "outputs": [],
   "source": [
    "testing_data = [\n",
    "     \n",
    "['rain','mild','normal','weak','yes'],\n",
    "['sunny','mild','normal','strong','yes'],\n",
    "['overcast','mild','high','strong','yes'],\n",
    "['overcast','hot','normal','weak','yes'],\n",
    "['rain','mild','high','strong','no'],\n",
    "]"
   ]
  },
  {
   "cell_type": "code",
   "execution_count": null,
   "metadata": {
    "colab": {
     "base_uri": "https://localhost:8080/",
     "height": 108
    },
    "id": "7x6Lbw0taAeo",
    "outputId": "e4453ffe-0236-4c26-a2ce-3bc62df9a87c"
   },
   "outputs": [
    {
     "name": "stdout",
     "output_type": "stream",
     "text": [
      "Actual: yes. Predicted: {'yes': '100%'}\n",
      "Actual: yes. Predicted: {'yes': '100%'}\n",
      "Actual: yes. Predicted: {'yes': '100%'}\n",
      "Actual: yes. Predicted: {'yes': '100%'}\n",
      "Actual: no. Predicted: {'no': '100%'}\n"
     ]
    }
   ],
   "source": [
    "for row in testing_data:\n",
    "    print (\"Actual: %s. Predicted: %s\" %\n",
    "           (row[-1], print_leaf(classify(row, my_tree))))"
   ]
  }
 ],
 "metadata": {
  "colab": {
   "collapsed_sections": [],
   "name": "GINI_index_DEcision_tree_weather.ipynb",
   "provenance": []
  },
  "kernelspec": {
   "display_name": "Python 3",
   "language": "python",
   "name": "python3"
  },
  "language_info": {
   "codemirror_mode": {
    "name": "ipython",
    "version": 3
   },
   "file_extension": ".py",
   "mimetype": "text/x-python",
   "name": "python",
   "nbconvert_exporter": "python",
   "pygments_lexer": "ipython3",
   "version": "3.7.6"
  }
 },
 "nbformat": 4,
 "nbformat_minor": 1
}
